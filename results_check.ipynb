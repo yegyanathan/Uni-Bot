{
 "cells": [
  {
   "cell_type": "code",
   "execution_count": 1,
   "metadata": {},
   "outputs": [],
   "source": [
    "import openai"
   ]
  },
  {
   "cell_type": "code",
   "execution_count": null,
   "metadata": {},
   "outputs": [],
   "source": [
    "def gpt3_answer(item, fine_tuned_model, is_log=False):\n",
    "    \n",
    "  # get the reuslt:\n",
    "  # max token = 1 because to predict one class\n",
    "  result = openai.Completion.create(model=fine_tuned_model, \n",
    "                                    prompt=str(item), temperature = 0.7)['choices'][0]['text'] \n",
    "    \n",
    "  if is_log: print('- ', item, ': ', result)\n",
    "    \n",
    "  return result\n",
    "\n",
    "gpt3_answer(item = 'why sastra?', fine_tune_model = \"babbage:ft-personal-2022-06-06-17-26-20\")"
   ]
  }
 ],
 "metadata": {
  "interpreter": {
   "hash": "6f5583cf1d9466b5c27e75c89cc6b383bed5736d6b16c51c8074d8690011a952"
  },
  "kernelspec": {
   "display_name": "Python 3.9.7 ('base')",
   "language": "python",
   "name": "python3"
  },
  "language_info": {
   "codemirror_mode": {
    "name": "ipython",
    "version": 3
   },
   "file_extension": ".py",
   "mimetype": "text/x-python",
   "name": "python",
   "nbconvert_exporter": "python",
   "pygments_lexer": "ipython3",
   "version": "3.9.7"
  },
  "orig_nbformat": 4
 },
 "nbformat": 4,
 "nbformat_minor": 2
}
